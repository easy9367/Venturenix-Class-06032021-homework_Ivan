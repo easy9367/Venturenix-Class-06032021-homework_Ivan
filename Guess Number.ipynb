{
 "cells": [
  {
   "cell_type": "code",
   "execution_count": null,
   "metadata": {},
   "outputs": [],
   "source": [
    "def getanswer(x1,mini,maxi,trial):\n",
    "    while not str(x1).isdigit():\n",
    "        x1 = input(\"Please input an integer from {} to {}, remain {} trials:\".format(mini,maxi,trial))\n",
    "        if x1.isdigit():\n",
    "            x1 = int(x1)\n",
    "        else:\n",
    "            continue\n",
    "        if x1 < mini or x1 > maxi:\n",
    "            x1 = str(x1) + \"a\"\n",
    "    return x1"
   ]
  },
  {
   "cell_type": "code",
   "execution_count": null,
   "metadata": {},
   "outputs": [],
   "source": [
    "def checkans(x1,mini,maxi,trial):\n",
    "    if ans-target < 0:\n",
    "        mini = ans+1\n",
    "    elif ans-target > 0:\n",
    "        maxi = ans-1\n",
    "    return ans,mini,maxi"
   ]
  },
  {
   "cell_type": "code",
   "execution_count": null,
   "metadata": {},
   "outputs": [],
   "source": [
    "target = random.randint(1,100)\n",
    "mini = 1\n",
    "maxi = 100\n",
    "trial = 5\n",
    "x1 = \"abc\"\n",
    "ans = -1\n",
    "while ans != target: \n",
    "    ans = getanswer(x1,mini,maxi,trial)\n",
    "    ans,mini,maxi = checkans(ans,mini,maxi,trial)\n",
    "    if ans == target:\n",
    "        print(\"The answer is {}. YOU WIN with {} trials!\".format(target,6-trial))\n",
    "        break\n",
    "    trial -= 1\n",
    "    if trial == 0:\n",
    "        print(\"GAME OVER!! The answer is {}.\".format(target))\n",
    "        break"
   ]
  }
 ],
 "metadata": {
  "kernelspec": {
   "display_name": "Python 3",
   "language": "python",
   "name": "python3"
  },
  "language_info": {
   "codemirror_mode": {
    "name": "ipython",
    "version": 3
   },
   "file_extension": ".py",
   "mimetype": "text/x-python",
   "name": "python",
   "nbconvert_exporter": "python",
   "pygments_lexer": "ipython3",
   "version": "3.8.5"
  }
 },
 "nbformat": 4,
 "nbformat_minor": 4
}
