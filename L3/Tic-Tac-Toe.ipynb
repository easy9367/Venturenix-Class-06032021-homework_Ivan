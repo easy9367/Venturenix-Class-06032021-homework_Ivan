{
 "cells": [
  {
   "cell_type": "code",
   "execution_count": 1,
   "metadata": {},
   "outputs": [],
   "source": [
    "import numpy as np\n",
    "k=3\n",
    "gameboard=np.zeros((k,k))"
   ]
  },
  {
   "cell_type": "code",
   "execution_count": 2,
   "metadata": {},
   "outputs": [],
   "source": [
    "def getanswer(x1,x2,turn,k,gameboard):\n",
    "    x1=\"abc\"\n",
    "    x2=\"def\"\n",
    "    while not str(x1).isdigit() and not str(x2).isdigit():\n",
    "        x1=\"abc\"\n",
    "        x2=\"def\"\n",
    "        x1 = input(\"Player {}, please input vertical location from 0 to {}:\".format(turn%2+1,k-1))\n",
    "        x2 = input(\"Player {}, please input horizontal location from 0 to {}:\".format(turn%2+1,k-1))\n",
    "        if x1.isdigit() and x2.isdigit():\n",
    "            x1 = int(x1)\n",
    "            x2 = int(x2)\n",
    "            if x1 < 0 or x1 > k or x2 < 0 or x2 > k:\n",
    "                print(\"Please input within the range from 0 to {}.\".format(k))\n",
    "                x1=\"abc\"\n",
    "                x2=\"def\"\n",
    "                continue\n",
    "            if gameboard[(x1,x2)]!=0:\n",
    "                print(\"Occupied already! Please re-input.\")\n",
    "                x1=\"abc\"\n",
    "                x2=\"def\"\n",
    "                continue\n",
    "        else:\n",
    "            print(\"Please input integer from 0 to {}!\".format(k))\n",
    "            continue\n",
    "    return x1,x2"
   ]
  },
  {
   "cell_type": "code",
   "execution_count": 3,
   "metadata": {},
   "outputs": [],
   "source": [
    "def putanswer(x1,x2,turn,gameboard):\n",
    "    if turn%2==0:\n",
    "        gameboard[x1,x2]=1\n",
    "    else:\n",
    "        gameboard[x1,x2]=2\n",
    "    return gameboard"
   ]
  },
  {
   "cell_type": "code",
   "execution_count": 4,
   "metadata": {},
   "outputs": [],
   "source": [
    "def checkanswer(x1,x2,c,k,gameboard):\n",
    "    c = gameboard[x1,x2]\n",
    "    if gameboard[x1-k+1,x2]==c and gameboard[x1-1,x2]==c:\n",
    "        iswin=True\n",
    "        return iswin\n",
    "    elif gameboard[x1,x2-k+1]==c and gameboard[x1,x2-1]==c:\n",
    "        iswin=True\n",
    "        return iswin\n",
    "    elif (x1+x2)%2==0:\n",
    "        if gameboard[x1-k+1,x2-k+1]==c and gameboard[x1-1,x2-1]==c:\n",
    "            iswin=True\n",
    "            return iswin\n",
    "        elif gameboard[x1-1,x2-k+1]==c and gameboard[x1-k+1,x2-1]==c:\n",
    "            iswin=True\n",
    "            return iswin\n",
    "    else:\n",
    "        iswin=False\n",
    "        return iswin"
   ]
  },
  {
   "cell_type": "code",
   "execution_count": null,
   "metadata": {},
   "outputs": [],
   "source": [
    "x1=\"abc\"\n",
    "x2=\"def\"\n",
    "turn=0\n",
    "c=5\n",
    "iswin=False\n",
    "for turn in range(9):\n",
    "    x1,x2=getanswer(x1,x2,turn,k,gameboard)\n",
    "    gameboard=putanswer(x1,x2,turn,gameboard)\n",
    "    iswin=checkanswer(x1,x2,c,k,gameboard)\n",
    "    print(gameboard)\n",
    "    if iswin==True:\n",
    "        print(\"Player {} is win!\".format((turn+1)%2))\n",
    "        break\n",
    "if iswin==False:\n",
    "    print(\"Draw game!\")"
   ]
  }
 ],
 "metadata": {
  "kernelspec": {
   "display_name": "Python 3",
   "language": "python",
   "name": "python3"
  },
  "language_info": {
   "codemirror_mode": {
    "name": "ipython",
    "version": 3
   },
   "file_extension": ".py",
   "mimetype": "text/x-python",
   "name": "python",
   "nbconvert_exporter": "python",
   "pygments_lexer": "ipython3",
   "version": "3.8.5"
  }
 },
 "nbformat": 4,
 "nbformat_minor": 4
}
